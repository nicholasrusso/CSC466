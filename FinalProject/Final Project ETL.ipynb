{
 "cells": [
  {
   "cell_type": "code",
   "execution_count": 1,
   "metadata": {
    "collapsed": true
   },
   "outputs": [],
   "source": [
    "import pandas as pd\n",
    "import numpy as np\n",
    "import imdb\n",
    "\n",
    "%matplotlib inline"
   ]
  },
  {
   "cell_type": "markdown",
   "metadata": {},
   "source": [
    "# Step 1 : Load ratings data\n",
    "### A subset of 100,000 ratings from 700 users on 9,000 movies."
   ]
  },
  {
   "cell_type": "code",
   "execution_count": 2,
   "metadata": {
    "collapsed": true
   },
   "outputs": [],
   "source": [
    "raw_ratings = pd.read_csv(\"the-movies-dataset/ratings_small.csv\", dtype={\"userId\": int, \"movieId\": int, \"rating\": float})[[\"userId\", \"movieId\", \"rating\"]]"
   ]
  },
  {
   "cell_type": "code",
   "execution_count": 3,
   "metadata": {},
   "outputs": [
    {
     "data": {
      "text/html": [
       "<div>\n",
       "<style>\n",
       "    .dataframe thead tr:only-child th {\n",
       "        text-align: right;\n",
       "    }\n",
       "\n",
       "    .dataframe thead th {\n",
       "        text-align: left;\n",
       "    }\n",
       "\n",
       "    .dataframe tbody tr th {\n",
       "        vertical-align: top;\n",
       "    }\n",
       "</style>\n",
       "<table border=\"1\" class=\"dataframe\">\n",
       "  <thead>\n",
       "    <tr style=\"text-align: right;\">\n",
       "      <th></th>\n",
       "      <th>userId</th>\n",
       "      <th>movieId</th>\n",
       "      <th>rating</th>\n",
       "    </tr>\n",
       "  </thead>\n",
       "  <tbody>\n",
       "    <tr>\n",
       "      <th>0</th>\n",
       "      <td>1</td>\n",
       "      <td>31</td>\n",
       "      <td>2.5</td>\n",
       "    </tr>\n",
       "    <tr>\n",
       "      <th>1</th>\n",
       "      <td>1</td>\n",
       "      <td>1029</td>\n",
       "      <td>3.0</td>\n",
       "    </tr>\n",
       "    <tr>\n",
       "      <th>2</th>\n",
       "      <td>1</td>\n",
       "      <td>1061</td>\n",
       "      <td>3.0</td>\n",
       "    </tr>\n",
       "    <tr>\n",
       "      <th>3</th>\n",
       "      <td>1</td>\n",
       "      <td>1129</td>\n",
       "      <td>2.0</td>\n",
       "    </tr>\n",
       "    <tr>\n",
       "      <th>4</th>\n",
       "      <td>1</td>\n",
       "      <td>1172</td>\n",
       "      <td>4.0</td>\n",
       "    </tr>\n",
       "  </tbody>\n",
       "</table>\n",
       "</div>"
      ],
      "text/plain": [
       "   userId  movieId  rating\n",
       "0       1       31     2.5\n",
       "1       1     1029     3.0\n",
       "2       1     1061     3.0\n",
       "3       1     1129     2.0\n",
       "4       1     1172     4.0"
      ]
     },
     "execution_count": 3,
     "metadata": {},
     "output_type": "execute_result"
    }
   ],
   "source": [
    "raw_ratings.head()"
   ]
  },
  {
   "cell_type": "markdown",
   "metadata": {},
   "source": [
    "### Step 2:  Create a user rating vector for each movie Id"
   ]
  },
  {
   "cell_type": "markdown",
   "metadata": {},
   "source": [
    "1. Determine largest user id in our data set. \n",
    "2. Create 'sparse' vectors with length equivalent to the number of possible users (largest user id)\n",
    "3. Discard movies that are very sparse (do not have enough non-zero ratings)"
   ]
  },
  {
   "cell_type": "code",
   "execution_count": 4,
   "metadata": {},
   "outputs": [
    {
     "data": {
      "text/plain": [
       "671"
      ]
     },
     "execution_count": 4,
     "metadata": {},
     "output_type": "execute_result"
    }
   ],
   "source": [
    "#what is max user rating in our data set? --> this will be the size of our list for each set of user ratings for each movie.\n",
    "N_user = max(raw_ratings.userId)\n",
    "N_user"
   ]
  },
  {
   "cell_type": "code",
   "execution_count": 5,
   "metadata": {
    "collapsed": true
   },
   "outputs": [],
   "source": [
    "rating_matrix = pd.crosstab(raw_ratings.movieId, raw_ratings.userId, raw_ratings.rating, aggfunc='mean').fillna(0)"
   ]
  },
  {
   "cell_type": "code",
   "execution_count": 6,
   "metadata": {},
   "outputs": [
    {
     "name": "stdout",
     "output_type": "stream",
     "text": [
      "Sufficent User Rating Threshold: 100 ratings\n"
     ]
    }
   ],
   "source": [
    "## SPARSITY THRESHOLD\n",
    "threshold = int(.15 * N_user)\n",
    "print(\"Sufficent User Rating Threshold: {} ratings\".format(threshold))\n",
    "# boolean mask of movies with sufficently dense ratings vectors.\n",
    "mask = ((rating_matrix != 0).sum(axis = 1) > threshold).values"
   ]
  },
  {
   "cell_type": "code",
   "execution_count": 7,
   "metadata": {},
   "outputs": [
    {
     "data": {
      "text/plain": [
       "<matplotlib.axes._subplots.AxesSubplot at 0x10ede6c18>"
      ]
     },
     "execution_count": 7,
     "metadata": {},
     "output_type": "execute_result"
    },
    {
     "data": {
      "image/png": "[encoded data removed]",
      "text/plain": [
       "<matplotlib.figure.Figure at 0x10eda2c18>"
      ]
     },
     "metadata": {},
     "output_type": "display_data"
    }
   ],
   "source": [
    "sufficientlyRated = rating_matrix.loc[mask,:]\n",
    "(sufficientlyRated != 0).sum(axis = 1).plot(kind = \"hist\", title = \"Histogram of Sufficiently Dense Ratings Vector\")"
   ]
  },
  {
   "cell_type": "markdown",
   "metadata": {},
   "source": [
    "### What does our transformed data look like now?"
   ]
  },
  {
   "cell_type": "code",
   "execution_count": 8,
   "metadata": {},
   "outputs": [
    {
     "data": {
      "text/plain": [
       "(149, 671)"
      ]
     },
     "execution_count": 8,
     "metadata": {},
     "output_type": "execute_result"
    }
   ],
   "source": [
    "sufficientlyRated.shape"
   ]
  },
  {
   "cell_type": "code",
   "execution_count": 9,
   "metadata": {},
   "outputs": [
    {
     "data": {
      "text/html": [
       "<div>\n",
       "<style>\n",
       "    .dataframe thead tr:only-child th {\n",
       "        text-align: right;\n",
       "    }\n",
       "\n",
       "    .dataframe thead th {\n",
       "        text-align: left;\n",
       "    }\n",
       "\n",
       "    .dataframe tbody tr th {\n",
       "        vertical-align: top;\n",
       "    }\n",
       "</style>\n",
       "<table border=\"1\" class=\"dataframe\">\n",
       "  <thead>\n",
       "    <tr style=\"text-align: right;\">\n",
       "      <th>userId</th>\n",
       "      <th>1</th>\n",
       "      <th>2</th>\n",
       "      <th>3</th>\n",
       "      <th>4</th>\n",
       "      <th>5</th>\n",
       "      <th>6</th>\n",
       "      <th>7</th>\n",
       "      <th>8</th>\n",
       "      <th>9</th>\n",
       "      <th>10</th>\n",
       "      <th>...</th>\n",
       "      <th>662</th>\n",
       "      <th>663</th>\n",
       "      <th>664</th>\n",
       "      <th>665</th>\n",
       "      <th>666</th>\n",
       "      <th>667</th>\n",
       "      <th>668</th>\n",
       "      <th>669</th>\n",
       "      <th>670</th>\n",
       "      <th>671</th>\n",
       "    </tr>\n",
       "    <tr>\n",
       "      <th>movieId</th>\n",
       "      <th></th>\n",
       "      <th></th>\n",
       "      <th></th>\n",
       "      <th></th>\n",
       "      <th></th>\n",
       "      <th></th>\n",
       "      <th></th>\n",
       "      <th></th>\n",
       "      <th></th>\n",
       "      <th></th>\n",
       "      <th></th>\n",
       "      <th></th>\n",
       "      <th></th>\n",
       "      <th></th>\n",
       "      <th></th>\n",
       "      <th></th>\n",
       "      <th></th>\n",
       "      <th></th>\n",
       "      <th></th>\n",
       "      <th></th>\n",
       "      <th></th>\n",
       "    </tr>\n",
       "  </thead>\n",
       "  <tbody>\n",
       "    <tr>\n",
       "      <th>1</th>\n",
       "      <td>0.0</td>\n",
       "      <td>0.0</td>\n",
       "      <td>0.0</td>\n",
       "      <td>0.0</td>\n",
       "      <td>0.0</td>\n",
       "      <td>0.0</td>\n",
       "      <td>3.0</td>\n",
       "      <td>0.0</td>\n",
       "      <td>4.0</td>\n",
       "      <td>0.0</td>\n",
       "      <td>...</td>\n",
       "      <td>0.0</td>\n",
       "      <td>4.0</td>\n",
       "      <td>3.5</td>\n",
       "      <td>0.0</td>\n",
       "      <td>0.0</td>\n",
       "      <td>0.0</td>\n",
       "      <td>0.0</td>\n",
       "      <td>0.0</td>\n",
       "      <td>4.0</td>\n",
       "      <td>5.0</td>\n",
       "    </tr>\n",
       "    <tr>\n",
       "      <th>2</th>\n",
       "      <td>0.0</td>\n",
       "      <td>0.0</td>\n",
       "      <td>0.0</td>\n",
       "      <td>0.0</td>\n",
       "      <td>0.0</td>\n",
       "      <td>0.0</td>\n",
       "      <td>0.0</td>\n",
       "      <td>0.0</td>\n",
       "      <td>0.0</td>\n",
       "      <td>0.0</td>\n",
       "      <td>...</td>\n",
       "      <td>5.0</td>\n",
       "      <td>0.0</td>\n",
       "      <td>0.0</td>\n",
       "      <td>3.0</td>\n",
       "      <td>0.0</td>\n",
       "      <td>0.0</td>\n",
       "      <td>0.0</td>\n",
       "      <td>0.0</td>\n",
       "      <td>0.0</td>\n",
       "      <td>0.0</td>\n",
       "    </tr>\n",
       "    <tr>\n",
       "      <th>6</th>\n",
       "      <td>0.0</td>\n",
       "      <td>0.0</td>\n",
       "      <td>0.0</td>\n",
       "      <td>0.0</td>\n",
       "      <td>0.0</td>\n",
       "      <td>0.0</td>\n",
       "      <td>0.0</td>\n",
       "      <td>0.0</td>\n",
       "      <td>0.0</td>\n",
       "      <td>0.0</td>\n",
       "      <td>...</td>\n",
       "      <td>0.0</td>\n",
       "      <td>0.0</td>\n",
       "      <td>4.0</td>\n",
       "      <td>0.0</td>\n",
       "      <td>5.0</td>\n",
       "      <td>4.0</td>\n",
       "      <td>0.0</td>\n",
       "      <td>0.0</td>\n",
       "      <td>0.0</td>\n",
       "      <td>0.0</td>\n",
       "    </tr>\n",
       "    <tr>\n",
       "      <th>10</th>\n",
       "      <td>0.0</td>\n",
       "      <td>4.0</td>\n",
       "      <td>0.0</td>\n",
       "      <td>4.0</td>\n",
       "      <td>0.0</td>\n",
       "      <td>0.0</td>\n",
       "      <td>3.0</td>\n",
       "      <td>0.0</td>\n",
       "      <td>0.0</td>\n",
       "      <td>0.0</td>\n",
       "      <td>...</td>\n",
       "      <td>3.0</td>\n",
       "      <td>0.0</td>\n",
       "      <td>0.0</td>\n",
       "      <td>0.0</td>\n",
       "      <td>3.0</td>\n",
       "      <td>0.0</td>\n",
       "      <td>0.0</td>\n",
       "      <td>0.0</td>\n",
       "      <td>0.0</td>\n",
       "      <td>0.0</td>\n",
       "    </tr>\n",
       "    <tr>\n",
       "      <th>25</th>\n",
       "      <td>0.0</td>\n",
       "      <td>0.0</td>\n",
       "      <td>0.0</td>\n",
       "      <td>0.0</td>\n",
       "      <td>0.0</td>\n",
       "      <td>0.0</td>\n",
       "      <td>0.0</td>\n",
       "      <td>0.0</td>\n",
       "      <td>0.0</td>\n",
       "      <td>0.0</td>\n",
       "      <td>...</td>\n",
       "      <td>0.0</td>\n",
       "      <td>0.0</td>\n",
       "      <td>0.0</td>\n",
       "      <td>0.0</td>\n",
       "      <td>0.0</td>\n",
       "      <td>2.0</td>\n",
       "      <td>0.0</td>\n",
       "      <td>0.0</td>\n",
       "      <td>5.0</td>\n",
       "      <td>0.0</td>\n",
       "    </tr>\n",
       "  </tbody>\n",
       "</table>\n",
       "<p>5 rows × 671 columns</p>\n",
       "</div>"
      ],
      "text/plain": [
       "userId   1    2    3    4    5    6    7    8    9    10  ...   662  663  664  \\\n",
       "movieId                                                   ...                   \n",
       "1        0.0  0.0  0.0  0.0  0.0  0.0  3.0  0.0  4.0  0.0 ...   0.0  4.0  3.5   \n",
       "2        0.0  0.0  0.0  0.0  0.0  0.0  0.0  0.0  0.0  0.0 ...   5.0  0.0  0.0   \n",
       "6        0.0  0.0  0.0  0.0  0.0  0.0  0.0  0.0  0.0  0.0 ...   0.0  0.0  4.0   \n",
       "10       0.0  4.0  0.0  4.0  0.0  0.0  3.0  0.0  0.0  0.0 ...   3.0  0.0  0.0   \n",
       "25       0.0  0.0  0.0  0.0  0.0  0.0  0.0  0.0  0.0  0.0 ...   0.0  0.0  0.0   \n",
       "\n",
       "userId   665  666  667  668  669  670  671  \n",
       "movieId                                     \n",
       "1        0.0  0.0  0.0  0.0  0.0  4.0  5.0  \n",
       "2        3.0  0.0  0.0  0.0  0.0  0.0  0.0  \n",
       "6        0.0  5.0  4.0  0.0  0.0  0.0  0.0  \n",
       "10       0.0  3.0  0.0  0.0  0.0  0.0  0.0  \n",
       "25       0.0  0.0  2.0  0.0  0.0  5.0  0.0  \n",
       "\n",
       "[5 rows x 671 columns]"
      ]
     },
     "execution_count": 9,
     "metadata": {},
     "output_type": "execute_result"
    }
   ],
   "source": [
    "sufficientlyRated.head()"
   ]
  },
  {
   "cell_type": "markdown",
   "metadata": {},
   "source": [
    "- Each row is a vector of user ratings for some movieId.\n",
    "- Each column is a vector of a user's rating for each movie."
   ]
  },
  {
   "cell_type": "markdown",
   "metadata": {},
   "source": [
    "### Step 3: Similarity Matrix \n",
    "- Each cell is a pairwise similarity score.\n",
    "- Possibile similarity scores:\n",
    "    - Cosine Similarity\n",
    "    - Pearson correlation coefficient"
   ]
  },
  {
   "cell_type": "code",
   "execution_count": 10,
   "metadata": {
    "collapsed": true
   },
   "outputs": [],
   "source": [
    "cosineSimMatrix = np.zeros(shape = (sufficientlyRated.shape[0], sufficientlyRated.shape[0]))\n",
    "pearsonSimMatrix = np.zeros(shape = (sufficientlyRated.shape[0], sufficientlyRated.shape[0]))"
   ]
  },
  {
   "cell_type": "code",
   "execution_count": 11,
   "metadata": {
    "collapsed": true
   },
   "outputs": [],
   "source": [
    "def cosineSimilarity(a, b):\n",
    "    denom = np.sqrt(np.square(a).sum()) * np.sqrt(np.square(b).sum())\n",
    "    return a.dot(b) / denom"
   ]
  },
  {
   "cell_type": "code",
   "execution_count": 12,
   "metadata": {
    "collapsed": true
   },
   "outputs": [],
   "source": [
    "def pearsonSimilarity(a, b):\n",
    "    diffA = a - np.mean(a)\n",
    "    diffB = b - np.mean(b)\n",
    "    return diffA.dot(diffB) / (np.sqrt(np.square(diffA).sum()) * np.sqrt(np.square(diffB).sum()))"
   ]
  },
  {
   "cell_type": "code",
   "execution_count": 13,
   "metadata": {
    "scrolled": true
   },
   "outputs": [
    {
     "data": {
      "text/plain": [
       "0.39451145006593652"
      ]
     },
     "execution_count": 13,
     "metadata": {},
     "output_type": "execute_result"
    }
   ],
   "source": [
    "cosineSimilarity(sufficientlyRated.loc[1], sufficientlyRated.loc[2])"
   ]
  },
  {
   "cell_type": "code",
   "execution_count": 14,
   "metadata": {},
   "outputs": [
    {
     "data": {
      "text/plain": [
       "0.22374218427303544"
      ]
     },
     "execution_count": 14,
     "metadata": {},
     "output_type": "execute_result"
    }
   ],
   "source": [
    "pearsonSimilarity(sufficientlyRated.loc[1], sufficientlyRated.loc[2])"
   ]
  },
  {
   "cell_type": "code",
   "execution_count": 15,
   "metadata": {},
   "outputs": [
    {
     "data": {
      "text/plain": [
       "array([    1,     2,     6,    10,    25,    32,    34,    36,    39,\n",
       "          47,    50,   110,   111,   150,   153,   165,   185,   208,\n",
       "         223,   231,   253,   260,   288,   292,   293,   296,   316,\n",
       "         318,   329,   339,   344,   349,   356,   357,   364,   367,\n",
       "         377,   380,   434,   454,   457,   480,   500,   527,   539,\n",
       "         541,   586,   587,   588,   589,   590,   592,   593,   595,\n",
       "         597,   608,   648,   733,   736,   750,   778,   780,   858,\n",
       "         912,   919,   924,  1036,  1073,  1089,  1097,  1136,  1193,\n",
       "        1196,  1197,  1198,  1200,  1206,  1208,  1210,  1213,  1214,\n",
       "        1221,  1222,  1240,  1258,  1259,  1265,  1270,  1291,  1387,\n",
       "        1393,  1517,  1527,  1580,  1617,  1682,  1704,  1721,  1732,\n",
       "        1917,  1923,  1961,  1968,  2028,  2174,  2329,  2355,  2396,\n",
       "        2502,  2571,  2628,  2683,  2706,  2716,  2762,  2791,  2797,\n",
       "        2858,  2916,  2918,  2959,  2987,  2997,  3114,  3147,  3578,\n",
       "        3793,  3996,  4226,  4306,  4886,  4896,  4963,  4973,  4993,\n",
       "        4995,  5349,  5445,  5952,  6377,  6539,  6874,  7153,  7361,\n",
       "        7438,  8961, 33794, 58559, 79132])"
      ]
     },
     "execution_count": 15,
     "metadata": {},
     "output_type": "execute_result"
    }
   ],
   "source": [
    "sufficientlyRated.index.values"
   ]
  },
  {
   "cell_type": "markdown",
   "metadata": {},
   "source": [
    "Populate matrix with pairwise cosine similarities:"
   ]
  },
  {
   "cell_type": "code",
   "execution_count": 16,
   "metadata": {
    "collapsed": true
   },
   "outputs": [],
   "source": [
    "for i in range(0,len(sufficientlyRated.index)):\n",
    "    indexI = sufficientlyRated.index.values[i]\n",
    "    for j in range(0, len(sufficientlyRated.index)):\n",
    "        indexJ = sufficientlyRated.index.values[j]\n",
    "        sim = cosineSimilarity(sufficientlyRated.loc[indexI], sufficientlyRated.loc[indexJ])\n",
    "        cosineSimMatrix[i,j] = sim\n",
    "        cosineSimMatrix[j,i] = sim"
   ]
  },
  {
   "cell_type": "code",
   "execution_count": 17,
   "metadata": {},
   "outputs": [
    {
     "data": {
      "text/plain": [
       "array([ 0.39451145,  1.        ,  0.22200271,  0.41812374,  0.20339753,\n",
       "        0.32134584,  0.3663719 ,  0.22540309,  0.35172378,  0.37914904,\n",
       "        0.28680485,  0.42352215,  0.13295219,  0.42870421,  0.41899211,\n",
       "        0.4121918 ,  0.44485639,  0.42433837,  0.30747562,  0.43852337,\n",
       "        0.3810462 ,  0.26786752,  0.35563435,  0.45366917,  0.26316172,\n",
       "        0.35129314,  0.4444796 ,  0.35733394,  0.39960639,  0.37613012,\n",
       "        0.47567326,  0.38206499,  0.43593566,  0.35162508,  0.53035702,\n",
       "        0.49460528,  0.47026504,  0.42988772,  0.38525371,  0.40306386,\n",
       "        0.400228  ,  0.47162412,  0.54634788,  0.31585386,  0.42168227,\n",
       "        0.22322008,  0.46682043,  0.47478714,  0.49399458,  0.40129433,\n",
       "        0.38300032,  0.41274525,  0.37692291,  0.49412399,  0.43360708,\n",
       "        0.25448293,  0.35564699,  0.34000935,  0.42299433,  0.17688228,\n",
       "        0.24400506,  0.405881  ,  0.19096087,  0.16342706,  0.32110166,\n",
       "        0.21416583,  0.28091131,  0.34722004,  0.21077859,  0.35498188,\n",
       "        0.29572417,  0.18621216,  0.27537379,  0.30916454,  0.26797065,\n",
       "        0.28793534,  0.21547939,  0.19990653,  0.26778679,  0.18987559,\n",
       "        0.25746735,  0.14642439,  0.25624217,  0.29181193,  0.23204189,\n",
       "        0.23890294,  0.30672505,  0.31281329,  0.31116363,  0.25712538,\n",
       "        0.26169226,  0.27369223,  0.30250331,  0.37120599,  0.16973129,\n",
       "        0.29001643,  0.2406746 ,  0.28012881,  0.23907823,  0.40693507,\n",
       "        0.30830554,  0.25445111,  0.27738768,  0.26183085,  0.29487964,\n",
       "        0.13791817,  0.33872117,  0.17326405,  0.25334315,  0.30290593,\n",
       "        0.26969328,  0.28692976,  0.31165426,  0.24974182,  0.28830993,\n",
       "        0.19149607,  0.28004958,  0.19465028,  0.24565845,  0.31250464,\n",
       "        0.27649074,  0.28862482,  0.21781334,  0.31594235,  0.27975284,\n",
       "        0.27226271,  0.27261853,  0.19712879,  0.21061653,  0.34103914,\n",
       "        0.32410247,  0.29182036,  0.26255927,  0.20672211,  0.31802752,\n",
       "        0.24240271,  0.3087359 ,  0.23961996,  0.2875125 ,  0.30240281,\n",
       "        0.30089397,  0.23093687,  0.27458   ,  0.2200131 ,  0.2132146 ,\n",
       "        0.29072868,  0.25331042,  0.24407109,  0.23331823])"
      ]
     },
     "execution_count": 17,
     "metadata": {},
     "output_type": "execute_result"
    }
   ],
   "source": [
    "cosineSimMatrix[1,:]"
   ]
  },
  {
   "cell_type": "code",
   "execution_count": 18,
   "metadata": {
    "collapsed": true
   },
   "outputs": [],
   "source": [
    "for i in range(0,len(sufficientlyRated.index)):\n",
    "    indexI = sufficientlyRated.index.values[i]\n",
    "    for j in range(0, len(sufficientlyRated.index)):\n",
    "        indexJ = sufficientlyRated.index.values[j]\n",
    "        sim = pearsonSimilarity(sufficientlyRated.loc[indexI], sufficientlyRated.loc[indexJ])\n",
    "        pearsonSimMatrix[i,j] = sim\n",
    "        pearsonSimMatrix[j,i] = sim"
   ]
  },
  {
   "cell_type": "code",
   "execution_count": 19,
   "metadata": {},
   "outputs": [
    {
     "data": {
      "text/plain": [
       "array([ 0.22374218,  1.        ,  0.08588917,  0.30668484,  0.06918922,\n",
       "        0.14935791,  0.23350552,  0.0896371 ,  0.23023934,  0.22136862,\n",
       "        0.10054578,  0.26965645, -0.0304444 ,  0.28451026,  0.30879753,\n",
       "        0.28989388,  0.35058227,  0.32349319,  0.18386792,  0.31963639,\n",
       "        0.26236932,  0.02677468,  0.24338961,  0.35702816,  0.11466512,\n",
       "        0.1302616 ,  0.32965252,  0.14247787,  0.2915233 ,  0.27009763,\n",
       "        0.35934312,  0.26695425,  0.25164122,  0.22807448,  0.41584287,\n",
       "        0.38643702,  0.34611982,  0.28877077,  0.27961738,  0.29555847,\n",
       "        0.2424976 ,  0.32037787,  0.44969419,  0.1174599 ,  0.31062455,\n",
       "        0.05696906,  0.36445473,  0.3749858 ,  0.36564338,  0.23545879,\n",
       "        0.22720438,  0.26650546,  0.17615702,  0.37733321,  0.31426898,\n",
       "        0.04699162,  0.20773383,  0.20592338,  0.30204202,  0.03178047,\n",
       "        0.09686631,  0.25226327, -0.02268493,  0.00659596,  0.19415379,\n",
       "        0.0654879 ,  0.12494842,  0.20864493,  0.0515049 ,  0.2109729 ,\n",
       "        0.14523329,  0.01208678,  0.06881707,  0.15141796,  0.06657913,\n",
       "        0.14938473,  0.06615714,  0.05379888,  0.06969643,  0.02676084,\n",
       "        0.11147299, -0.02873733,  0.12587863,  0.13313214,  0.10013816,\n",
       "        0.09893702,  0.14850829,  0.12221768,  0.16304796,  0.12504974,\n",
       "        0.13222712,  0.14888496,  0.17293934,  0.21709533,  0.00676988,\n",
       "        0.14347799,  0.0701107 ,  0.12333026,  0.09487952,  0.30389437,\n",
       "        0.17788491,  0.11241895,  0.14154806,  0.07828659,  0.17399908,\n",
       "       -0.01566552,  0.22362537,  0.01565001,  0.12179241,  0.09285565,\n",
       "        0.12532206,  0.16155556,  0.19043496,  0.08859237,  0.10977768,\n",
       "        0.05016449,  0.15209566, -0.02994731,  0.11399377,  0.17446783,\n",
       "        0.08843679,  0.16197296,  0.06586373,  0.18380699,  0.15472637,\n",
       "        0.10833182,  0.13174854,  0.04945013,  0.05068385,  0.18711736,\n",
       "        0.18985821,  0.16872146,  0.11507641,  0.05344724,  0.14448   ,\n",
       "        0.10207072,  0.17027873,  0.10000384,  0.11276513,  0.16921117,\n",
       "        0.1551336 ,  0.09299215,  0.10320972,  0.08133198,  0.07880979,\n",
       "        0.15214146,  0.12236445,  0.09949259,  0.09445911])"
      ]
     },
     "execution_count": 19,
     "metadata": {},
     "output_type": "execute_result"
    }
   ],
   "source": [
    "pearsonSimMatrix[1,:]"
   ]
  },
  {
   "cell_type": "markdown",
   "metadata": {},
   "source": [
    "### Associate our movies with their data to help us determine clustering quality"
   ]
  },
  {
   "cell_type": "code",
   "execution_count": 20,
   "metadata": {
    "collapsed": true,
    "scrolled": true
   },
   "outputs": [],
   "source": [
    "movieIdXexternalId = pd.read_csv(\"the-movies-dataset/links_small.csv\")[[\"movieId\", \"imdbId\"]]"
   ]
  },
  {
   "cell_type": "code",
   "execution_count": 21,
   "metadata": {},
   "outputs": [
    {
     "data": {
      "text/plain": [
       "(9125, 2)"
      ]
     },
     "execution_count": 21,
     "metadata": {},
     "output_type": "execute_result"
    }
   ],
   "source": [
    "movieIdXexternalId.shape"
   ]
  },
  {
   "cell_type": "code",
   "execution_count": 22,
   "metadata": {},
   "outputs": [
    {
     "data": {
      "text/html": [
       "<div>\n",
       "<style>\n",
       "    .dataframe thead tr:only-child th {\n",
       "        text-align: right;\n",
       "    }\n",
       "\n",
       "    .dataframe thead th {\n",
       "        text-align: left;\n",
       "    }\n",
       "\n",
       "    .dataframe tbody tr th {\n",
       "        vertical-align: top;\n",
       "    }\n",
       "</style>\n",
       "<table border=\"1\" class=\"dataframe\">\n",
       "  <thead>\n",
       "    <tr style=\"text-align: right;\">\n",
       "      <th></th>\n",
       "      <th>movieId</th>\n",
       "      <th>imdbId</th>\n",
       "    </tr>\n",
       "  </thead>\n",
       "  <tbody>\n",
       "    <tr>\n",
       "      <th>0</th>\n",
       "      <td>1</td>\n",
       "      <td>114709</td>\n",
       "    </tr>\n",
       "    <tr>\n",
       "      <th>1</th>\n",
       "      <td>2</td>\n",
       "      <td>113497</td>\n",
       "    </tr>\n",
       "    <tr>\n",
       "      <th>2</th>\n",
       "      <td>3</td>\n",
       "      <td>113228</td>\n",
       "    </tr>\n",
       "    <tr>\n",
       "      <th>3</th>\n",
       "      <td>4</td>\n",
       "      <td>114885</td>\n",
       "    </tr>\n",
       "    <tr>\n",
       "      <th>4</th>\n",
       "      <td>5</td>\n",
       "      <td>113041</td>\n",
       "    </tr>\n",
       "  </tbody>\n",
       "</table>\n",
       "</div>"
      ],
      "text/plain": [
       "   movieId  imdbId\n",
       "0        1  114709\n",
       "1        2  113497\n",
       "2        3  113228\n",
       "3        4  114885\n",
       "4        5  113041"
      ]
     },
     "execution_count": 22,
     "metadata": {},
     "output_type": "execute_result"
    }
   ],
   "source": [
    "movieIdXexternalId.head()"
   ]
  },
  {
   "cell_type": "markdown",
   "metadata": {},
   "source": [
    "### Get the list of IMDB ratings for our subset of movies."
   ]
  },
  {
   "cell_type": "code",
   "execution_count": 37,
   "metadata": {},
   "outputs": [
    {
     "data": {
      "text/plain": [
       "(149, 2)"
      ]
     },
     "execution_count": 37,
     "metadata": {},
     "output_type": "execute_result"
    }
   ],
   "source": [
    "subset = movieIdXexternalId[movieIdXexternalId.movieId.isin(sufficientlyRated.index.values)]\n",
    "subset.shape"
   ]
  },
  {
   "cell_type": "code",
   "execution_count": 26,
   "metadata": {},
   "outputs": [],
   "source": [
    "from imdb import IMDb"
   ]
  },
  {
   "cell_type": "code",
   "execution_count": 40,
   "metadata": {},
   "outputs": [
    {
     "name": "stderr",
     "output_type": "stream",
     "text": [
      "/Users/cgels/anaconda/lib/python3.6/site-packages/ipykernel_launcher.py:2: SettingWithCopyWarning: \n",
      "A value is trying to be set on a copy of a slice from a DataFrame.\n",
      "Try using .loc[row_indexer,col_indexer] = value instead\n",
      "\n",
      "See the caveats in the documentation: http://pandas.pydata.org/pandas-docs/stable/indexing.html#indexing-view-versus-copy\n",
      "  \n"
     ]
    }
   ],
   "source": [
    "api = IMDb()\n",
    "subset['title'] = subset.imdbId.apply(lambda mID: api.get_movie(str(mID)).data['title'])"
   ]
  },
  {
   "cell_type": "code",
   "execution_count": 41,
   "metadata": {},
   "outputs": [
    {
     "data": {
      "text/html": [
       "<div>\n",
       "<style>\n",
       "    .dataframe thead tr:only-child th {\n",
       "        text-align: right;\n",
       "    }\n",
       "\n",
       "    .dataframe thead th {\n",
       "        text-align: left;\n",
       "    }\n",
       "\n",
       "    .dataframe tbody tr th {\n",
       "        vertical-align: top;\n",
       "    }\n",
       "</style>\n",
       "<table border=\"1\" class=\"dataframe\">\n",
       "  <thead>\n",
       "    <tr style=\"text-align: right;\">\n",
       "      <th></th>\n",
       "      <th>movieId</th>\n",
       "      <th>imdbId</th>\n",
       "      <th>title</th>\n",
       "    </tr>\n",
       "  </thead>\n",
       "  <tbody>\n",
       "    <tr>\n",
       "      <th>0</th>\n",
       "      <td>1</td>\n",
       "      <td>114709</td>\n",
       "      <td>Toy Story</td>\n",
       "    </tr>\n",
       "    <tr>\n",
       "      <th>1</th>\n",
       "      <td>2</td>\n",
       "      <td>113497</td>\n",
       "      <td>Jumanji</td>\n",
       "    </tr>\n",
       "    <tr>\n",
       "      <th>5</th>\n",
       "      <td>6</td>\n",
       "      <td>113277</td>\n",
       "      <td>Heat</td>\n",
       "    </tr>\n",
       "    <tr>\n",
       "      <th>9</th>\n",
       "      <td>10</td>\n",
       "      <td>113189</td>\n",
       "      <td>GoldenEye</td>\n",
       "    </tr>\n",
       "    <tr>\n",
       "      <th>24</th>\n",
       "      <td>25</td>\n",
       "      <td>113627</td>\n",
       "      <td>Leaving Las Vegas</td>\n",
       "    </tr>\n",
       "    <tr>\n",
       "      <th>31</th>\n",
       "      <td>32</td>\n",
       "      <td>114746</td>\n",
       "      <td>Twelve Monkeys</td>\n",
       "    </tr>\n",
       "    <tr>\n",
       "      <th>32</th>\n",
       "      <td>34</td>\n",
       "      <td>112431</td>\n",
       "      <td>Babe</td>\n",
       "    </tr>\n",
       "    <tr>\n",
       "      <th>34</th>\n",
       "      <td>36</td>\n",
       "      <td>112818</td>\n",
       "      <td>Dead Man Walking</td>\n",
       "    </tr>\n",
       "    <tr>\n",
       "      <th>37</th>\n",
       "      <td>39</td>\n",
       "      <td>112697</td>\n",
       "      <td>Clueless</td>\n",
       "    </tr>\n",
       "    <tr>\n",
       "      <th>45</th>\n",
       "      <td>47</td>\n",
       "      <td>114369</td>\n",
       "      <td>Se7en</td>\n",
       "    </tr>\n",
       "    <tr>\n",
       "      <th>48</th>\n",
       "      <td>50</td>\n",
       "      <td>114814</td>\n",
       "      <td>The Usual Suspects</td>\n",
       "    </tr>\n",
       "    <tr>\n",
       "      <th>100</th>\n",
       "      <td>110</td>\n",
       "      <td>112573</td>\n",
       "      <td>Braveheart</td>\n",
       "    </tr>\n",
       "    <tr>\n",
       "      <th>101</th>\n",
       "      <td>111</td>\n",
       "      <td>75314</td>\n",
       "      <td>Taxi Driver</td>\n",
       "    </tr>\n",
       "    <tr>\n",
       "      <th>129</th>\n",
       "      <td>150</td>\n",
       "      <td>112384</td>\n",
       "      <td>Apollo 13</td>\n",
       "    </tr>\n",
       "    <tr>\n",
       "      <th>132</th>\n",
       "      <td>153</td>\n",
       "      <td>112462</td>\n",
       "      <td>Batman Forever</td>\n",
       "    </tr>\n",
       "    <tr>\n",
       "      <th>144</th>\n",
       "      <td>165</td>\n",
       "      <td>112864</td>\n",
       "      <td>Die Hard with a Vengeance</td>\n",
       "    </tr>\n",
       "    <tr>\n",
       "      <th>163</th>\n",
       "      <td>185</td>\n",
       "      <td>113957</td>\n",
       "      <td>The Net</td>\n",
       "    </tr>\n",
       "    <tr>\n",
       "      <th>184</th>\n",
       "      <td>208</td>\n",
       "      <td>114898</td>\n",
       "      <td>Waterworld</td>\n",
       "    </tr>\n",
       "    <tr>\n",
       "      <th>196</th>\n",
       "      <td>223</td>\n",
       "      <td>109445</td>\n",
       "      <td>Clerks</td>\n",
       "    </tr>\n",
       "    <tr>\n",
       "      <th>203</th>\n",
       "      <td>231</td>\n",
       "      <td>109686</td>\n",
       "      <td>Dumb and Dumber</td>\n",
       "    </tr>\n",
       "    <tr>\n",
       "      <th>225</th>\n",
       "      <td>253</td>\n",
       "      <td>110148</td>\n",
       "      <td>Interview with the Vampire: The Vampire Chroni...</td>\n",
       "    </tr>\n",
       "    <tr>\n",
       "      <th>232</th>\n",
       "      <td>260</td>\n",
       "      <td>76759</td>\n",
       "      <td>Star Wars</td>\n",
       "    </tr>\n",
       "    <tr>\n",
       "      <th>258</th>\n",
       "      <td>288</td>\n",
       "      <td>110632</td>\n",
       "      <td>Natural Born Killers</td>\n",
       "    </tr>\n",
       "    <tr>\n",
       "      <th>262</th>\n",
       "      <td>292</td>\n",
       "      <td>114069</td>\n",
       "      <td>Outbreak</td>\n",
       "    </tr>\n",
       "    <tr>\n",
       "      <th>263</th>\n",
       "      <td>293</td>\n",
       "      <td>110413</td>\n",
       "      <td>Léon</td>\n",
       "    </tr>\n",
       "    <tr>\n",
       "      <th>266</th>\n",
       "      <td>296</td>\n",
       "      <td>110912</td>\n",
       "      <td>Pulp Fiction</td>\n",
       "    </tr>\n",
       "    <tr>\n",
       "      <th>282</th>\n",
       "      <td>316</td>\n",
       "      <td>111282</td>\n",
       "      <td>Stargate</td>\n",
       "    </tr>\n",
       "    <tr>\n",
       "      <th>284</th>\n",
       "      <td>318</td>\n",
       "      <td>111161</td>\n",
       "      <td>The Shawshank Redemption</td>\n",
       "    </tr>\n",
       "    <tr>\n",
       "      <th>294</th>\n",
       "      <td>329</td>\n",
       "      <td>111280</td>\n",
       "      <td>Star Trek: Generations</td>\n",
       "    </tr>\n",
       "    <tr>\n",
       "      <th>304</th>\n",
       "      <td>339</td>\n",
       "      <td>114924</td>\n",
       "      <td>While You Were Sleeping</td>\n",
       "    </tr>\n",
       "    <tr>\n",
       "      <th>...</th>\n",
       "      <td>...</td>\n",
       "      <td>...</td>\n",
       "      <td>...</td>\n",
       "    </tr>\n",
       "    <tr>\n",
       "      <th>2340</th>\n",
       "      <td>2918</td>\n",
       "      <td>91042</td>\n",
       "      <td>Ferris Bueller's Day Off</td>\n",
       "    </tr>\n",
       "    <tr>\n",
       "      <th>2374</th>\n",
       "      <td>2959</td>\n",
       "      <td>137523</td>\n",
       "      <td>Fight Club</td>\n",
       "    </tr>\n",
       "    <tr>\n",
       "      <th>2398</th>\n",
       "      <td>2987</td>\n",
       "      <td>96438</td>\n",
       "      <td>Who Framed Roger Rabbit</td>\n",
       "    </tr>\n",
       "    <tr>\n",
       "      <th>2407</th>\n",
       "      <td>2997</td>\n",
       "      <td>120601</td>\n",
       "      <td>Being John Malkovich</td>\n",
       "    </tr>\n",
       "    <tr>\n",
       "      <th>2506</th>\n",
       "      <td>3114</td>\n",
       "      <td>120363</td>\n",
       "      <td>Toy Story 2</td>\n",
       "    </tr>\n",
       "    <tr>\n",
       "      <th>2531</th>\n",
       "      <td>3147</td>\n",
       "      <td>120689</td>\n",
       "      <td>The Green Mile</td>\n",
       "    </tr>\n",
       "    <tr>\n",
       "      <th>2860</th>\n",
       "      <td>3578</td>\n",
       "      <td>172495</td>\n",
       "      <td>Gladiator</td>\n",
       "    </tr>\n",
       "    <tr>\n",
       "      <th>3033</th>\n",
       "      <td>3793</td>\n",
       "      <td>120903</td>\n",
       "      <td>X-Men</td>\n",
       "    </tr>\n",
       "    <tr>\n",
       "      <th>3199</th>\n",
       "      <td>3996</td>\n",
       "      <td>190332</td>\n",
       "      <td>Wo hu cang long</td>\n",
       "    </tr>\n",
       "    <tr>\n",
       "      <th>3367</th>\n",
       "      <td>4226</td>\n",
       "      <td>209144</td>\n",
       "      <td>Memento</td>\n",
       "    </tr>\n",
       "    <tr>\n",
       "      <th>3419</th>\n",
       "      <td>4306</td>\n",
       "      <td>126029</td>\n",
       "      <td>Shrek</td>\n",
       "    </tr>\n",
       "    <tr>\n",
       "      <th>3805</th>\n",
       "      <td>4886</td>\n",
       "      <td>198781</td>\n",
       "      <td>Monsters, Inc.</td>\n",
       "    </tr>\n",
       "    <tr>\n",
       "      <th>3812</th>\n",
       "      <td>4896</td>\n",
       "      <td>241527</td>\n",
       "      <td>Harry Potter and the Sorcerer's Stone</td>\n",
       "    </tr>\n",
       "    <tr>\n",
       "      <th>3847</th>\n",
       "      <td>4963</td>\n",
       "      <td>240772</td>\n",
       "      <td>Ocean's Eleven</td>\n",
       "    </tr>\n",
       "    <tr>\n",
       "      <th>3856</th>\n",
       "      <td>4973</td>\n",
       "      <td>211915</td>\n",
       "      <td>Le fabuleux destin d'Amélie Poulain</td>\n",
       "    </tr>\n",
       "    <tr>\n",
       "      <th>3871</th>\n",
       "      <td>4993</td>\n",
       "      <td>120737</td>\n",
       "      <td>The Lord of the Rings: The Fellowship of the Ring</td>\n",
       "    </tr>\n",
       "    <tr>\n",
       "      <th>3873</th>\n",
       "      <td>4995</td>\n",
       "      <td>268978</td>\n",
       "      <td>A Beautiful Mind</td>\n",
       "    </tr>\n",
       "    <tr>\n",
       "      <th>4085</th>\n",
       "      <td>5349</td>\n",
       "      <td>145487</td>\n",
       "      <td>Spider-Man</td>\n",
       "    </tr>\n",
       "    <tr>\n",
       "      <th>4139</th>\n",
       "      <td>5445</td>\n",
       "      <td>181689</td>\n",
       "      <td>Minority Report</td>\n",
       "    </tr>\n",
       "    <tr>\n",
       "      <th>4395</th>\n",
       "      <td>5952</td>\n",
       "      <td>167261</td>\n",
       "      <td>The Lord of the Rings: The Two Towers</td>\n",
       "    </tr>\n",
       "    <tr>\n",
       "      <th>4610</th>\n",
       "      <td>6377</td>\n",
       "      <td>266543</td>\n",
       "      <td>Finding Nemo</td>\n",
       "    </tr>\n",
       "    <tr>\n",
       "      <th>4693</th>\n",
       "      <td>6539</td>\n",
       "      <td>325980</td>\n",
       "      <td>Pirates of the Caribbean: The Curse of the Bla...</td>\n",
       "    </tr>\n",
       "    <tr>\n",
       "      <th>4855</th>\n",
       "      <td>6874</td>\n",
       "      <td>266697</td>\n",
       "      <td>Kill Bill: Vol. 1</td>\n",
       "    </tr>\n",
       "    <tr>\n",
       "      <th>5026</th>\n",
       "      <td>7153</td>\n",
       "      <td>167260</td>\n",
       "      <td>The Lord of the Rings: The Return of the King</td>\n",
       "    </tr>\n",
       "    <tr>\n",
       "      <th>5127</th>\n",
       "      <td>7361</td>\n",
       "      <td>338013</td>\n",
       "      <td>Eternal Sunshine of the Spotless Mind</td>\n",
       "    </tr>\n",
       "    <tr>\n",
       "      <th>5152</th>\n",
       "      <td>7438</td>\n",
       "      <td>378194</td>\n",
       "      <td>Kill Bill: Vol. 2</td>\n",
       "    </tr>\n",
       "    <tr>\n",
       "      <th>5626</th>\n",
       "      <td>8961</td>\n",
       "      <td>317705</td>\n",
       "      <td>The Incredibles</td>\n",
       "    </tr>\n",
       "    <tr>\n",
       "      <th>6158</th>\n",
       "      <td>33794</td>\n",
       "      <td>372784</td>\n",
       "      <td>Batman Begins</td>\n",
       "    </tr>\n",
       "    <tr>\n",
       "      <th>6916</th>\n",
       "      <td>58559</td>\n",
       "      <td>468569</td>\n",
       "      <td>The Dark Knight</td>\n",
       "    </tr>\n",
       "    <tr>\n",
       "      <th>7575</th>\n",
       "      <td>79132</td>\n",
       "      <td>1375666</td>\n",
       "      <td>Inception</td>\n",
       "    </tr>\n",
       "  </tbody>\n",
       "</table>\n",
       "<p>149 rows × 3 columns</p>\n",
       "</div>"
      ],
      "text/plain": [
       "      movieId   imdbId                                              title\n",
       "0           1   114709                                          Toy Story\n",
       "1           2   113497                                            Jumanji\n",
       "5           6   113277                                               Heat\n",
       "9          10   113189                                          GoldenEye\n",
       "24         25   113627                                  Leaving Las Vegas\n",
       "31         32   114746                                     Twelve Monkeys\n",
       "32         34   112431                                               Babe\n",
       "34         36   112818                                   Dead Man Walking\n",
       "37         39   112697                                           Clueless\n",
       "45         47   114369                                              Se7en\n",
       "48         50   114814                                 The Usual Suspects\n",
       "100       110   112573                                         Braveheart\n",
       "101       111    75314                                        Taxi Driver\n",
       "129       150   112384                                          Apollo 13\n",
       "132       153   112462                                     Batman Forever\n",
       "144       165   112864                          Die Hard with a Vengeance\n",
       "163       185   113957                                            The Net\n",
       "184       208   114898                                         Waterworld\n",
       "196       223   109445                                             Clerks\n",
       "203       231   109686                                    Dumb and Dumber\n",
       "225       253   110148  Interview with the Vampire: The Vampire Chroni...\n",
       "232       260    76759                                          Star Wars\n",
       "258       288   110632                               Natural Born Killers\n",
       "262       292   114069                                           Outbreak\n",
       "263       293   110413                                               Léon\n",
       "266       296   110912                                       Pulp Fiction\n",
       "282       316   111282                                           Stargate\n",
       "284       318   111161                           The Shawshank Redemption\n",
       "294       329   111280                             Star Trek: Generations\n",
       "304       339   114924                            While You Were Sleeping\n",
       "...       ...      ...                                                ...\n",
       "2340     2918    91042                           Ferris Bueller's Day Off\n",
       "2374     2959   137523                                         Fight Club\n",
       "2398     2987    96438                            Who Framed Roger Rabbit\n",
       "2407     2997   120601                               Being John Malkovich\n",
       "2506     3114   120363                                        Toy Story 2\n",
       "2531     3147   120689                                     The Green Mile\n",
       "2860     3578   172495                                          Gladiator\n",
       "3033     3793   120903                                              X-Men\n",
       "3199     3996   190332                                    Wo hu cang long\n",
       "3367     4226   209144                                            Memento\n",
       "3419     4306   126029                                              Shrek\n",
       "3805     4886   198781                                     Monsters, Inc.\n",
       "3812     4896   241527              Harry Potter and the Sorcerer's Stone\n",
       "3847     4963   240772                                     Ocean's Eleven\n",
       "3856     4973   211915                Le fabuleux destin d'Amélie Poulain\n",
       "3871     4993   120737  The Lord of the Rings: The Fellowship of the Ring\n",
       "3873     4995   268978                                   A Beautiful Mind\n",
       "4085     5349   145487                                         Spider-Man\n",
       "4139     5445   181689                                    Minority Report\n",
       "4395     5952   167261              The Lord of the Rings: The Two Towers\n",
       "4610     6377   266543                                       Finding Nemo\n",
       "4693     6539   325980  Pirates of the Caribbean: The Curse of the Bla...\n",
       "4855     6874   266697                                  Kill Bill: Vol. 1\n",
       "5026     7153   167260      The Lord of the Rings: The Return of the King\n",
       "5127     7361   338013              Eternal Sunshine of the Spotless Mind\n",
       "5152     7438   378194                                  Kill Bill: Vol. 2\n",
       "5626     8961   317705                                    The Incredibles\n",
       "6158    33794   372784                                      Batman Begins\n",
       "6916    58559   468569                                    The Dark Knight\n",
       "7575    79132  1375666                                          Inception\n",
       "\n",
       "[149 rows x 3 columns]"
      ]
     },
     "execution_count": 41,
     "metadata": {},
     "output_type": "execute_result"
    }
   ],
   "source": [
    "subset"
   ]
  },
  {
   "cell_type": "code",
   "execution_count": 42,
   "metadata": {
    "collapsed": true
   },
   "outputs": [],
   "source": [
    "import pickle"
   ]
  },
  {
   "cell_type": "code",
   "execution_count": 44,
   "metadata": {},
   "outputs": [],
   "source": [
    "pickle.dump(file=open(\"cosineSimMat.pkl\", \"wb+\"), obj=cosineSimMatrix)"
   ]
  },
  {
   "cell_type": "code",
   "execution_count": null,
   "metadata": {
    "collapsed": true
   },
   "outputs": [],
   "source": [
    "pickle.dump(file=open(\"cosineSimMat.pkl\", \"wb+\"), obj=cosineSimMatrix)"
   ]
  }
 ],
 "metadata": {
  "kernelspec": {
   "display_name": "Python 3",
   "language": "python",
   "name": "python3"
  },
  "language_info": {
   "codemirror_mode": {
    "name": "ipython",
    "version": 3
   },
   "file_extension": ".py",
   "mimetype": "text/x-python",
   "name": "python",
   "nbconvert_exporter": "python",
   "pygments_lexer": "ipython3",
   "version": "3.6.1"
  }
 },
 "nbformat": 4,
 "nbformat_minor": 2
}
